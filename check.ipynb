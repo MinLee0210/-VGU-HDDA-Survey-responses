{
 "cells": [
  {
   "cell_type": "code",
   "execution_count": 1,
   "metadata": {},
   "outputs": [],
   "source": [
    "import pandas as pd"
   ]
  },
  {
   "cell_type": "code",
   "execution_count": 2,
   "metadata": {},
   "outputs": [
    {
     "data": {
      "text/html": [
       "<div>\n",
       "<style scoped>\n",
       "    .dataframe tbody tr th:only-of-type {\n",
       "        vertical-align: middle;\n",
       "    }\n",
       "\n",
       "    .dataframe tbody tr th {\n",
       "        vertical-align: top;\n",
       "    }\n",
       "\n",
       "    .dataframe thead th {\n",
       "        text-align: right;\n",
       "    }\n",
       "</style>\n",
       "<table border=\"1\" class=\"dataframe\">\n",
       "  <thead>\n",
       "    <tr style=\"text-align: right;\">\n",
       "      <th></th>\n",
       "      <th>Timestamp</th>\n",
       "      <th>What is your gender?</th>\n",
       "      <th>Which year are you studying at university?</th>\n",
       "      <th>How long do you usually play game in a day?</th>\n",
       "      <th>What is the main reason you play games?</th>\n",
       "      <th>What kind of games do you usually play?</th>\n",
       "      <th>What device do you use to play game?</th>\n",
       "      <th>Do you prefer playing games alone or with friends?</th>\n",
       "      <th>Unnamed: 8</th>\n",
       "      <th>Unnamed: 9</th>\n",
       "    </tr>\n",
       "  </thead>\n",
       "  <tbody>\n",
       "    <tr>\n",
       "      <th>0</th>\n",
       "      <td>12/9/2022 22</td>\n",
       "      <td>24</td>\n",
       "      <td>35</td>\n",
       "      <td>Male</td>\n",
       "      <td>4</td>\n",
       "      <td>30 minutes</td>\n",
       "      <td>Connect with your friend</td>\n",
       "      <td>Strategy    (LOL, Plant vs Zombie, Tower Defen...</td>\n",
       "      <td>PC / Laptop</td>\n",
       "      <td>Play with friends</td>\n",
       "    </tr>\n",
       "    <tr>\n",
       "      <th>1</th>\n",
       "      <td>12/9/2022 22</td>\n",
       "      <td>29</td>\n",
       "      <td>4</td>\n",
       "      <td>Male</td>\n",
       "      <td>3</td>\n",
       "      <td>1 hour</td>\n",
       "      <td>Kill time</td>\n",
       "      <td>RPG    (Elden Ring, God of War, Monster Hunter...</td>\n",
       "      <td>Console</td>\n",
       "      <td>Play with friends</td>\n",
       "    </tr>\n",
       "    <tr>\n",
       "      <th>2</th>\n",
       "      <td>12/9/2022 22</td>\n",
       "      <td>30</td>\n",
       "      <td>59</td>\n",
       "      <td>Male</td>\n",
       "      <td>4</td>\n",
       "      <td>3 hours</td>\n",
       "      <td>Kill time</td>\n",
       "      <td>Survival horror    (Dead by daylight, The fore...</td>\n",
       "      <td>PC / Laptop</td>\n",
       "      <td>Play alone</td>\n",
       "    </tr>\n",
       "    <tr>\n",
       "      <th>3</th>\n",
       "      <td>12/9/2022 22</td>\n",
       "      <td>31</td>\n",
       "      <td>40</td>\n",
       "      <td>Female</td>\n",
       "      <td>1</td>\n",
       "      <td>30 minutes or less</td>\n",
       "      <td>Kill time</td>\n",
       "      <td>Simulation    (the Sims, Jurassic World , Fall...</td>\n",
       "      <td>PC / Laptop</td>\n",
       "      <td>Play alone</td>\n",
       "    </tr>\n",
       "    <tr>\n",
       "      <th>4</th>\n",
       "      <td>12/9/2022 22</td>\n",
       "      <td>48</td>\n",
       "      <td>42</td>\n",
       "      <td>Female</td>\n",
       "      <td>4</td>\n",
       "      <td>30 minutes or less</td>\n",
       "      <td>Kill time</td>\n",
       "      <td>Puzzle    (2048, Brainout, Escape Simulator,...)</td>\n",
       "      <td>Mobile phone</td>\n",
       "      <td>Play alone</td>\n",
       "    </tr>\n",
       "  </tbody>\n",
       "</table>\n",
       "</div>"
      ],
      "text/plain": [
       "      Timestamp  What is your gender?  \\\n",
       "0  12/9/2022 22                    24   \n",
       "1  12/9/2022 22                    29   \n",
       "2  12/9/2022 22                    30   \n",
       "3  12/9/2022 22                    31   \n",
       "4  12/9/2022 22                    48   \n",
       "\n",
       "   Which year are you studying at university?  \\\n",
       "0                                          35   \n",
       "1                                           4   \n",
       "2                                          59   \n",
       "3                                          40   \n",
       "4                                          42   \n",
       "\n",
       "  How long do you usually play game in a day?  \\\n",
       "0                                        Male   \n",
       "1                                        Male   \n",
       "2                                        Male   \n",
       "3                                      Female   \n",
       "4                                      Female   \n",
       "\n",
       "   What is the main reason you play games?  \\\n",
       "0                                        4   \n",
       "1                                        3   \n",
       "2                                        4   \n",
       "3                                        1   \n",
       "4                                        4   \n",
       "\n",
       "  What kind of games do you usually play?  \\\n",
       "0                              30 minutes   \n",
       "1                                  1 hour   \n",
       "2                                 3 hours   \n",
       "3                      30 minutes or less   \n",
       "4                      30 minutes or less   \n",
       "\n",
       "  What device do you use to play game?  \\\n",
       "0             Connect with your friend   \n",
       "1                            Kill time   \n",
       "2                            Kill time   \n",
       "3                            Kill time   \n",
       "4                            Kill time   \n",
       "\n",
       "  Do you prefer playing games alone or with friends?    Unnamed: 8  \\\n",
       "0  Strategy    (LOL, Plant vs Zombie, Tower Defen...   PC / Laptop   \n",
       "1  RPG    (Elden Ring, God of War, Monster Hunter...       Console   \n",
       "2  Survival horror    (Dead by daylight, The fore...   PC / Laptop   \n",
       "3  Simulation    (the Sims, Jurassic World , Fall...   PC / Laptop   \n",
       "4   Puzzle    (2048, Brainout, Escape Simulator,...)  Mobile phone   \n",
       "\n",
       "          Unnamed: 9  \n",
       "0  Play with friends  \n",
       "1  Play with friends  \n",
       "2         Play alone  \n",
       "3         Play alone  \n",
       "4         Play alone  "
      ]
     },
     "execution_count": 2,
     "metadata": {},
     "output_type": "execute_result"
    }
   ],
   "source": [
    "df = pd.read_csv('./survey_response.csv')\n",
    "df.head()"
   ]
  },
  {
   "cell_type": "code",
   "execution_count": 3,
   "metadata": {},
   "outputs": [
    {
     "data": {
      "text/plain": [
       "(117, 10)"
      ]
     },
     "execution_count": 3,
     "metadata": {},
     "output_type": "execute_result"
    }
   ],
   "source": [
    "df.shape"
   ]
  }
 ],
 "metadata": {
  "kernelspec": {
   "display_name": "Python 3",
   "language": "python",
   "name": "python3"
  },
  "language_info": {
   "codemirror_mode": {
    "name": "ipython",
    "version": 3
   },
   "file_extension": ".py",
   "mimetype": "text/x-python",
   "name": "python",
   "nbconvert_exporter": "python",
   "pygments_lexer": "ipython3",
   "version": "3.10.6"
  },
  "orig_nbformat": 4,
  "vscode": {
   "interpreter": {
    "hash": "916dbcbb3f70747c44a77c7bcd40155683ae19c65e1c03b4aa3499c5328201f1"
   }
  }
 },
 "nbformat": 4,
 "nbformat_minor": 2
}
